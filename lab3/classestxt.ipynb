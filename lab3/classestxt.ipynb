{
 "cells": [
  {
   "cell_type": "code",
   "execution_count": 11,
   "metadata": {},
   "outputs": [
    {
     "name": "stdout",
     "output_type": "stream",
     "text": [
      "AAA\n"
     ]
    }
   ],
   "source": [
    "class MyClass:\n",
    "    def __init__(self):\n",
    "        self.text = \"\"\n",
    "\n",
    "    def getString(self):\n",
    "        self.text = input(\"Enter a string: \")\n",
    "\n",
    "    def printString(self):\n",
    "        print(self.text.upper())\n",
    "\n",
    "\n",
    "# Example usage\n",
    "obj = MyClass()\n",
    "obj.getString()\n",
    "obj.printString()\n",
    "\n"
   ]
  },
  {
   "cell_type": "code",
   "execution_count": 10,
   "metadata": {},
   "outputs": [
    {
     "name": "stdout",
     "output_type": "stream",
     "text": [
      "Area of Shape: 0\n",
      "Area of Square: 25\n"
     ]
    }
   ],
   "source": [
    "class Shape:\n",
    "    def __init__(self):\n",
    "        pass\n",
    "\n",
    "    def area(self):\n",
    "        return 0\n",
    "\n",
    "\n",
    "class Square(Shape):\n",
    "    def __init__(self, length):\n",
    "        super().__init__()\n",
    "        self.length = length\n",
    "\n",
    "    def area(self):\n",
    "        return self.length * self.length\n",
    "\n",
    "\n",
    "if __name__ == \"__main__\":\n",
    "    shape = Shape()\n",
    "    print(\"Area of Shape:\", shape.area())\n",
    "\n",
    "    square = Square(5)\n",
    "    print(\"Area of Square:\", square.area())\n"
   ]
  },
  {
   "cell_type": "code",
   "execution_count": 4,
   "metadata": {},
   "outputs": [
    {
     "name": "stdout",
     "output_type": "stream",
     "text": [
      "Rectangle: 15\n"
     ]
    }
   ],
   "source": [
    "class Shape:\n",
    "    def __init__ (self):\n",
    "        pass\n",
    "    def area(self):\n",
    "        return 0\n",
    "    \n",
    "class Rectangle(Shape):\n",
    "    def __init__ (self,length,width):\n",
    "        super().__init__()\n",
    "        self.length =length\n",
    "        self.width=width\n",
    "\n",
    "    def area (self):\n",
    "        return self.length*self.width\n",
    "    \n",
    "if __name__ == \"__main__\" :\n",
    "    rectangle=Rectangle(5,3)\n",
    "    print(\"Rectangle:\", rectangle.area())\n"
   ]
  },
  {
   "cell_type": "code",
   "execution_count": 8,
   "metadata": {},
   "outputs": [
    {
     "name": "stdout",
     "output_type": "stream",
     "text": [
      "Point 1: (0, 0)\n",
      "Point 2: (3, 4)\n",
      "Distance: 5.0\n",
      "Point 1 after moving: (5, 5)\n"
     ]
    }
   ],
   "source": [
    "import math\n",
    "\n",
    "class Point:\n",
    "    def __init__(self, x, y):\n",
    "        self.x = x\n",
    "        self.y = y\n",
    "\n",
    "    def show(self):\n",
    "        return self.x, self.y\n",
    "\n",
    "    def move(self, x, y):\n",
    "        self.x = x\n",
    "        self.y = y\n",
    "\n",
    "    def dist(self, other):\n",
    "        return math.sqrt((self.x - other.x)**2 + (self.y - other.y)**2)\n",
    "\n",
    "\n",
    "# Example usage\n",
    "p1 = Point(0, 0)\n",
    "p2 = Point(3, 4)\n",
    "\n",
    "print(\"Point 1:\", p1.show())\n",
    "print(\"Point 2:\", p2.show())\n",
    "print(\"Distance:\", p1.dist(p2))\n",
    "\n",
    "p1.move(5, 5)\n",
    "print(\"Point 1 after moving:\", p1.show())\n",
    "\n"
   ]
  },
  {
   "cell_type": "code",
   "execution_count": 6,
   "metadata": {},
   "outputs": [
    {
     "name": "stdout",
     "output_type": "stream",
     "text": [
      "Account Owner: Ali\n",
      "Balance: 5000\n",
      "2000 added to the account. Current balance: 7000\n",
      "3000 withdrawn from the account. Remaining balance: 4000\n",
      "Insufficient funds in the account.\n",
      "Deposit amount must be greater than zero.\n"
     ]
    }
   ],
   "source": [
    "\n",
    "class Account:\n",
    "    def __init__(self, owner, balance=0):\n",
    "        self.owner = owner\n",
    "        self.balance = balance\n",
    "\n",
    "    def deposit(self, amount):\n",
    "        if amount > 0:\n",
    "            self.balance += amount\n",
    "            print(f\"{amount} added to the account. Current balance: {self.balance}\")\n",
    "        else:\n",
    "            print(\"Deposit amount must be greater than zero.\")\n",
    "\n",
    "    def withdraw(self, amount):\n",
    "        if amount > self.balance:\n",
    "            print(\"Insufficient funds in the account.\")\n",
    "        elif amount <= 0:\n",
    "            print(\"Withdrawal amount must be greater than zero.\")\n",
    "        else:\n",
    "            self.balance -= amount\n",
    "            print(f\"{amount} withdrawn from the account. Remaining balance: {self.balance}\")\n",
    "\n",
    "    def __str__(self):\n",
    "        return f\"Account Owner: {self.owner}\\nBalance: {self.balance}\"\n",
    "\n",
    "\n",
    "if __name__ == \"__main__\":\n",
    "    acc = Account(\"Ali\", 5000)\n",
    "    print(acc)\n",
    "    acc.deposit(2000)\n",
    "    acc.withdraw(3000)\n",
    "    acc.withdraw(5000)\n",
    "    acc.deposit(-500)\n",
    "\n"
   ]
  },
  {
   "cell_type": "code",
   "execution_count": 7,
   "metadata": {},
   "outputs": [
    {
     "name": "stdout",
     "output_type": "stream",
     "text": [
      "Prime numbers in the list: [2, 3, 5, 7, 11, 13, 17, 19]\n"
     ]
    }
   ],
   "source": [
    "def is_prime(num):\n",
    "    if num < 2:\n",
    "        return False\n",
    "    for i in range(2, int(num ** 0.5) + 1):\n",
    "        if num % i == 0:\n",
    "            return False\n",
    "    return True\n",
    "\n",
    "numbers = [2, 3, 4, 5, 6, 7, 8, 9, 10, 11, 13, 15, 17, 19, 20]\n",
    "prime_numbers = list(filter(lambda x: is_prime(x), numbers))\n",
    "print(\"Prime numbers in the list:\", prime_numbers)\n"
   ]
  }
 ],
 "metadata": {
  "kernelspec": {
   "display_name": "Python 3",
   "language": "python",
   "name": "python3"
  },
  "language_info": {
   "codemirror_mode": {
    "name": "ipython",
    "version": 3
   },
   "file_extension": ".py",
   "mimetype": "text/x-python",
   "name": "python",
   "nbconvert_exporter": "python",
   "pygments_lexer": "ipython3",
   "version": "3.13.1"
  }
 },
 "nbformat": 4,
 "nbformat_minor": 2
}
