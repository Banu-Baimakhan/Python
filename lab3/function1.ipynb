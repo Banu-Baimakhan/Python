{
 "cells": [
  {
   "cell_type": "code",
   "execution_count": 3,
   "metadata": {},
   "outputs": [
    {
     "name": "stdout",
     "output_type": "stream",
     "text": [
      "141.7476155\n"
     ]
    }
   ],
   "source": [
    "def check(n):\n",
    "    \n",
    "    return n*28.3495231\n",
    "\n",
    "n=int(input())\n",
    "print(check(n))\n"
   ]
  },
  {
   "cell_type": "code",
   "execution_count": 4,
   "metadata": {},
   "outputs": [
    {
     "name": "stdout",
     "output_type": "stream",
     "text": [
      "-11.11111111111111\n"
     ]
    }
   ],
   "source": [
    "def check(n):\n",
    "    return(5.0/9.0)*(n-32)\n",
    "\n",
    "n=int(input())\n",
    "print(check(n))"
   ]
  },
  {
   "cell_type": "code",
   "execution_count": 7,
   "metadata": {},
   "outputs": [
    {
     "name": "stdout",
     "output_type": "stream",
     "text": [
      "The amount of rabbits:  6\n",
      "The amount of chickens:  6\n"
     ]
    }
   ],
   "source": [
    "def check(a,b):\n",
    "    return b//2-a\n",
    "\n",
    "def check(a,b):\n",
    "    return 2*a-b//2\n",
    "\n",
    "a=int(input())\n",
    "b=int(input())\n",
    "print(\"The amount of rabbits: \", check(a,b))\n",
    "print(\"The amount of chickens: \", check(a,b))\n",
    "\n",
    "\n"
   ]
  },
  {
   "cell_type": "code",
   "execution_count": 8,
   "metadata": {},
   "outputs": [
    {
     "name": "stdout",
     "output_type": "stream",
     "text": [
      "[]\n"
     ]
    }
   ],
   "source": [
    "def check (n):\n",
    "    if n==1:\n",
    "        return False \n",
    "    for i in range (2, int(n**0.5)+1):\n",
    "        if n%i==0:\n",
    "            return False\n",
    "    return True\n",
    "\n",
    "a=input().split()\n",
    "b=[0]*len(a)\n",
    "for i in range(len(a)): b[i]=int(a[i])\n",
    "c=list(filter(check,b))\n",
    "print(c)"
   ]
  },
  {
   "cell_type": "code",
   "execution_count": 9,
   "metadata": {},
   "outputs": [
    {
     "name": "stdout",
     "output_type": "stream",
     "text": [
      "12 "
     ]
    }
   ],
   "source": [
    "def check (s):\n",
    "    for i in range(len(s)-1,-1,-1):\n",
    "        print(s[i],end=\" \")\n",
    "\n",
    "s=input().split()\n",
    "check(s)"
   ]
  },
  {
   "cell_type": "code",
   "execution_count": 10,
   "metadata": {},
   "outputs": [
    {
     "name": "stdout",
     "output_type": "stream",
     "text": [
      "None\n"
     ]
    }
   ],
   "source": [
    "def check(a):\n",
    "    for i in range(len(a)-1):\n",
    "        if a[i]==\"3\" and a[i+1]==3:\n",
    "            return \"Yes\"\n",
    "        return \"No\"\n",
    "    \n",
    "a=input().split()\n",
    "print(check(a))"
   ]
  },
  {
   "cell_type": "code",
   "execution_count": 11,
   "metadata": {},
   "outputs": [
    {
     "name": "stdout",
     "output_type": "stream",
     "text": [
      "False\n"
     ]
    }
   ],
   "source": [
    "def check (a,b,i,j):\n",
    "    if j==len(b):\n",
    "        return True\n",
    "    if i==len(a):\n",
    "        return False\n",
    "    if a[i]==b[j]:\n",
    "        return check(a,b,i+1, j+1)\n",
    "    return check(a,b,i+1,j)\n",
    "\n",
    "a=input().split()\n",
    "b=[\"0\", \"0\",\"7\"]\n",
    "print(check(a,b,0,0))"
   ]
  },
  {
   "cell_type": "code",
   "execution_count": 2,
   "metadata": {},
   "outputs": [
    {
     "name": "stdout",
     "output_type": "stream",
     "text": [
      "2143.5733333333333\n"
     ]
    }
   ],
   "source": [
    "def check(n):\n",
    "    return (4.0/3.0)*3.14*n**3\n",
    "\n",
    "r=int (input())\n",
    "print(check(r))"
   ]
  },
  {
   "cell_type": "code",
   "execution_count": 13,
   "metadata": {},
   "outputs": [
    {
     "name": "stdout",
     "output_type": "stream",
     "text": [
      "['5']\n"
     ]
    }
   ],
   "source": [
    "def check(a,b):\n",
    "    for i in a:\n",
    "        if not i in b:\n",
    "            b.append(i)\n",
    "    return b\n",
    "\n",
    "a=input().split()\n",
    "b=[]\n",
    "print (check(a,b))"
   ]
  },
  {
   "cell_type": "code",
   "execution_count": 14,
   "metadata": {},
   "outputs": [
    {
     "name": "stdout",
     "output_type": "stream",
     "text": [
      "No\n"
     ]
    }
   ],
   "source": [
    "def check(s,i,j):\n",
    "    if i>=j:\n",
    "        return True\n",
    "    if s[i]!=s[j]:\n",
    "        return False\n",
    "    return check(s,i+1,j-1)\n",
    "\n",
    "s=str(input())\n",
    "print(\"Yes\")if check(s,0,len(s)-1)else print(\"No\")\n"
   ]
  },
  {
   "cell_type": "code",
   "execution_count": 16,
   "metadata": {},
   "outputs": [
    {
     "name": "stdout",
     "output_type": "stream",
     "text": [
      "*****\n"
     ]
    }
   ],
   "source": [
    "def check(a, i, j):\n",
    "    if i == len(a):\n",
    "        return\n",
    "    if j == int(a[i]):\n",
    "        print()\n",
    "        return check(a, i + 1, 0)\n",
    "    print(\"*\", end=\"\")\n",
    "    return check(a, i, j + 1)\n",
    "\n",
    "a = input().split()\n",
    "check(a, 0, 0)\n"
   ]
  },
  {
   "cell_type": "code",
   "execution_count": null,
   "metadata": {},
   "outputs": [
    {
     "name": "stdout",
     "output_type": "stream",
     "text": [
      "Well, 5, I am thinking of a number between 1 and 20.\n",
      "Take a guess.\n",
      "Your guess is too low.\n",
      "Take a guess.\n",
      "Your guess is too low.\n",
      "Take a guess.\n",
      "Your guess is too low.\n",
      "Take a guess.\n",
      "Your guess is too high.\n",
      "Take a guess.\n",
      "Your guess is too low.\n",
      "Take a guess.\n"
     ]
    }
   ],
   "source": [
    "import random\n",
    "s = input(\"Hello! What is your name? \")\n",
    "print(f\"Well, {s}, I am thinking of a number between 1 and 20.\")\n",
    "\n",
    "n = 0  # Переменная для хранения текущей догадки пользователя\n",
    "q = 1  # Счетчик\n",
    "k = random.randint(1, 20) \n",
    "\n",
    "while n != k:\n",
    "    print(\"Take a guess.\")\n",
    "    n = int(input())  # Читаем число от пользователя\n",
    "    \n",
    "    if n == k:\n",
    "        print(f\"Good job, {s}! You guessed my number in {q} guesses!\")\n",
    "        break \n",
    "    elif n > k:\n",
    "        print(\"Your guess is too high.\")\n",
    "    else:\n",
    "        print(\"Your guess is too low.\")\n",
    "    \n",
    "    q += 1  \n"
   ]
  }
 ],
 "metadata": {
  "kernelspec": {
   "display_name": "Python 3",
   "language": "python",
   "name": "python3"
  },
  "language_info": {
   "codemirror_mode": {
    "name": "ipython",
    "version": 3
   },
   "file_extension": ".py",
   "mimetype": "text/x-python",
   "name": "python",
   "nbconvert_exporter": "python",
   "pygments_lexer": "ipython3",
   "version": "3.13.1"
  }
 },
 "nbformat": 4,
 "nbformat_minor": 2
}
