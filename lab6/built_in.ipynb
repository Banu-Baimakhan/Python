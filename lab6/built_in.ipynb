{
 "cells": [
  {
   "cell_type": "code",
   "execution_count": 1,
   "metadata": {},
   "outputs": [
    {
     "name": "stdout",
     "output_type": "stream",
     "text": [
      "40\n"
     ]
    }
   ],
   "source": [
    "import functools\n",
    "n=int(input())\n",
    "a=[]\n",
    "for i in range(n):\n",
    "    k=int(input())\n",
    "    a.append(k)\n",
    "\n",
    "print(functools.reduce(lambda x,y: x*y, a))\n"
   ]
  },
  {
   "cell_type": "code",
   "execution_count": 2,
   "metadata": {},
   "outputs": [
    {
     "name": "stdout",
     "output_type": "stream",
     "text": [
      "Number of upper case: 1 \n",
      "Number of lower case: 3\n"
     ]
    }
   ],
   "source": [
    "a = str(input())\n",
    "b = sum(map(str.isupper, a))\n",
    "c = sum(map(str.islower, a))\n",
    "print(f\"Number of upper case: {b}\",f\"\\nNumber of lower case: {c}\")"
   ]
  },
  {
   "cell_type": "code",
   "execution_count": 4,
   "metadata": {},
   "outputs": [
    {
     "name": "stdout",
     "output_type": "stream",
     "text": [
      "Palindrome\n"
     ]
    }
   ],
   "source": [
    "def check(x):\n",
    "    global a\n",
    "    global i\n",
    "    i-=1\n",
    "    return x==a[i]\n",
    "\n",
    "a = str(input())\n",
    "i=len(a)\n",
    "\n",
    "c=list(filter(check, a))\n",
    "print(\"Palindrome\") if len(c)==len(a) else print(\"No\")"
   ]
  },
  {
   "cell_type": "code",
   "execution_count": 5,
   "metadata": {},
   "outputs": [
    {
     "name": "stdout",
     "output_type": "stream",
     "text": [
      "Square root of 25 after 2.0 miliseconds is 5.0\n"
     ]
    }
   ],
   "source": [
    "import time\n",
    "\n",
    "n=int(input(\"Positive integer to take a square root: \"))\n",
    "m=float(input(\"Amount of milliseconds to take a root: \"))\n",
    "m/=1000.0\n",
    "time.sleep(m)\n",
    "print(f\"Square root of {n} after {m} miliseconds is {n**0.5}\")"
   ]
  },
  {
   "cell_type": "code",
   "execution_count": 6,
   "metadata": {},
   "outputs": [
    {
     "name": "stdout",
     "output_type": "stream",
     "text": [
      "Yes\n"
     ]
    }
   ],
   "source": [
    "def check(x):\n",
    "    return bool(x)\n",
    "\n",
    "n=int(input())\n",
    "a=[]\n",
    "for i in range(n):\n",
    "    k=input()\n",
    "    a.append(k)\n",
    "a=tuple(a)\n",
    "b=list(map(check, a))\n",
    "\n",
    "print(\"No\") if b.count(False) else print(\"Yes\")"
   ]
  }
 ],
 "metadata": {
  "kernelspec": {
   "display_name": "Python 3",
   "language": "python",
   "name": "python3"
  },
  "language_info": {
   "codemirror_mode": {
    "name": "ipython",
    "version": 3
   },
   "file_extension": ".py",
   "mimetype": "text/x-python",
   "name": "python",
   "nbconvert_exporter": "python",
   "pygments_lexer": "ipython3",
   "version": "3.13.1"
  }
 },
 "nbformat": 4,
 "nbformat_minor": 2
}
