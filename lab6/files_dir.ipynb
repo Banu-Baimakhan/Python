{
 "cells": [
  {
   "cell_type": "code",
   "execution_count": 1,
   "metadata": {},
   "outputs": [
    {
     "name": "stdout",
     "output_type": "stream",
     "text": [
      "['built_in.ipynb', 'files_dir.ipynb']\n"
     ]
    }
   ],
   "source": [
    "import os\n",
    "\n",
    "a=os.listdir()\n",
    "print(a)"
   ]
  },
  {
   "cell_type": "code",
   "execution_count": 8,
   "metadata": {},
   "outputs": [
    {
     "name": "stdout",
     "output_type": "stream",
     "text": [
      "True\n",
      "True\n",
      "True\n",
      "True\n"
     ]
    }
   ],
   "source": [
    "import os\n",
    "\n",
    "a=input(\"Enter a name of a path: \")\n",
    "\n",
    "print(os.access(a, os.F_OK))\n",
    "print(os.access(a, os.R_OK))\n",
    "print(os.access(a, os.W_OK))\n",
    "print(os.access(a, os.X_OK))"
   ]
  },
  {
   "cell_type": "code",
   "execution_count": 9,
   "metadata": {},
   "outputs": [
    {
     "name": "stdout",
     "output_type": "stream",
     "text": [
      "The number of lines in a file: 148\n"
     ]
    }
   ],
   "source": [
    "a=input(\"Enter a name of a path: \")\n",
    "b=open(a, \"r\")\n",
    "n=0\n",
    "for i in b:\n",
    "    n+=1\n",
    "\n",
    "print(f\"The number of lines in a file: {n}\")\n",
    "b.close()"
   ]
  },
  {
   "cell_type": "code",
   "execution_count": null,
   "metadata": {},
   "outputs": [],
   "source": [
    "a=input(\"Enter a name of a path: \")\n",
    "b=input(\"Write an elements of list in 1 line:  \").split()\n",
    "\n",
    "c=open(a, \"a\")\n",
    "for i in b:\n",
    "    c.write(i+\" \")\n",
    "c.close()\n",
    "\n",
    "d=open(a,\"r\")\n",
    "print(d.read())\n",
    "d.close()"
   ]
  }
 ],
 "metadata": {
  "kernelspec": {
   "display_name": "Python 3",
   "language": "python",
   "name": "python3"
  },
  "language_info": {
   "codemirror_mode": {
    "name": "ipython",
    "version": 3
   },
   "file_extension": ".py",
   "mimetype": "text/x-python",
   "name": "python",
   "nbconvert_exporter": "python",
   "pygments_lexer": "ipython3",
   "version": "3.13.1"
  }
 },
 "nbformat": 4,
 "nbformat_minor": 2
}
banana apple 