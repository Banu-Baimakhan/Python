{
 "cells": [
  {
   "cell_type": "code",
   "execution_count": null,
   "metadata": {},
   "outputs": [],
   "source": [
    "import os\n",
    "\n",
    "a=os.listdir()\n",
    "print(a)"
   ]
  },
  {
   "cell_type": "code",
   "execution_count": null,
   "metadata": {},
   "outputs": [],
   "source": [
    "import os\n",
    "\n",
    "a=input(\"Enter a name of a path: \")\n",
    "\n",
    "print(os.access(a, os.F_OK))\n",
    "print(os.access(a, os.R_OK))\n",
    "print(os.access(a, os.W_OK))\n",
    "print(os.access(a, os.X_OK))"
   ]
  },
  {
   "cell_type": "code",
   "execution_count": null,
   "metadata": {},
   "outputs": [],
   "source": [
    "a=input(\"Enter a name of a text file: \")\n",
    "b=open(a, \"r\")\n",
    "n=0\n",
    "for i in b:\n",
    "    n+=1\n",
    "\n",
    "print(f\"The number of lines in a file: {n}\")\n",
    "b.close()"
   ]
  },
  {
   "cell_type": "code",
   "execution_count": null,
   "metadata": {},
   "outputs": [],
   "source": [
    "a=input(\"Enter a name of a text file: \")\n",
    "b=input(\"Write an elements of list in 1 line: \").split()\n",
    "\n",
    "c=open(a, \"a\")\n",
    "for i in b:\n",
    "    c.write(i+\" \")\n",
    "c.close()\n",
    "\n",
    "d=open(a,\"r\")\n",
    "print(d.read())\n",
    "d.close"
   ]
  },
  {
   "cell_type": "code",
   "execution_count": null,
   "metadata": {},
   "outputs": [],
   "source": [
    "a=\"ABCDEFGHIJKLMNOPQRSTUVWXYZ\"\n",
    "b=\".txt\"\n",
    "for i in range(26):\n",
    "    c=a[i]+b\n",
    "    d=open(c, \"w\")\n",
    "\n",
    "d.close()"
   ]
  },
  {
   "cell_type": "code",
   "execution_count": null,
   "metadata": {},
   "outputs": [],
   "source": [
    "a=input(\"Name of a file you want to copy: \")\n",
    "b=input(\"Name of a file you want to paste: \")\n",
    "c=open(a, \"r\")\n",
    "d=open(b, \"w\")\n",
    "d.write(c.read())\n",
    "\n",
    "c.close()\n",
    "d.close()"
   ]
  },
  {
   "cell_type": "code",
   "execution_count": null,
   "metadata": {},
   "outputs": [],
   "source": [
    "import os\n",
    "\n",
    "a=input(\"Name of a file you want to delete: \")\n",
    "b=os.access(a, os.F_OK)\n",
    "if b:\n",
    "    os.remove(a)\n",
    "else:\n",
    "    print(\"File does not exist\")"
   ]
  }
 ],
 "metadata": {
  "kernelspec": {
   "display_name": "Python 3",
   "language": "python",
   "name": "python3"
  },
  "language_info": {
   "name": "python",
   "version": "3.13.1"
  }
 },
 "nbformat": 4,
 "nbformat_minor": 2
}
