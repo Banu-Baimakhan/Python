{
 "cells": [
  {
   "cell_type": "code",
   "execution_count": 5,
   "metadata": {},
   "outputs": [
    {
     "name": "stdout",
     "output_type": "stream",
     "text": [
      "0.261799\n"
     ]
    }
   ],
   "source": [
    "import math\n",
    "\n",
    "x= float(input())\n",
    "y=math.radians(x)\n",
    "\n",
    "print(format(y, '.6f'))"
   ]
  },
  {
   "cell_type": "code",
   "execution_count": 6,
   "metadata": {},
   "outputs": [
    {
     "name": "stdout",
     "output_type": "stream",
     "text": [
      "27.5\n"
     ]
    }
   ],
   "source": [
    "import math \n",
    "\n",
    "a=int(input())\n",
    "b=int(input())  \n",
    "c=int(input())\n",
    "\n",
    "area=((b+c)*a)/2\n",
    "\n",
    "print(area)"
   ]
  },
  {
   "cell_type": "code",
   "execution_count": 8,
   "metadata": {},
   "outputs": [
    {
     "name": "stdout",
     "output_type": "stream",
     "text": [
      "625.00\n"
     ]
    }
   ],
   "source": [
    "import math\n",
    "\n",
    "a=int(input())\n",
    "b=int(input())  \n",
    "\n",
    "area=(a*b**2)/(4*math.tan(math.pi/a))\n",
    "\n",
    "print(format(area, \".2f\"))"
   ]
  },
  {
   "cell_type": "code",
   "execution_count": 9,
   "metadata": {},
   "outputs": [
    {
     "name": "stdout",
     "output_type": "stream",
     "text": [
      "30.00\n"
     ]
    }
   ],
   "source": [
    "import math \n",
    "\n",
    "a=int(input())  \n",
    "b=int(input())\n",
    "\n",
    "area=(a*b)\n",
    "\n",
    "print(format (area, \".2f\")) "
   ]
  }
 ],
 "metadata": {
  "kernelspec": {
   "display_name": "Python 3",
   "language": "python",
   "name": "python3"
  },
  "language_info": {
   "codemirror_mode": {
    "name": "ipython",
    "version": 3
   },
   "file_extension": ".py",
   "mimetype": "text/x-python",
   "name": "python",
   "nbconvert_exporter": "python",
   "pygments_lexer": "ipython3",
   "version": "3.13.1"
  }
 },
 "nbformat": 4,
 "nbformat_minor": 2
}
