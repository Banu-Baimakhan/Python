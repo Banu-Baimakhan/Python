{
 "cells": [
  {
   "cell_type": "code",
   "execution_count": 8,
   "metadata": {},
   "outputs": [
    {
     "name": "stdout",
     "output_type": "stream",
     "text": [
      "2025-02-15\n",
      "2025-02-10\n"
     ]
    }
   ],
   "source": [
    "from datetime import datetime, timedelta\n",
    "\n",
    "x=datetime.now()\n",
    "new=x-timedelta(days=5)\n",
    "\n",
    "\n",
    "print(x.strftime(\"%Y-%m-%d\"))\n",
    "print(new.strftime(\"%Y-%m-%d\"))\n"
   ]
  },
  {
   "cell_type": "code",
   "execution_count": 9,
   "metadata": {},
   "outputs": [
    {
     "name": "stdout",
     "output_type": "stream",
     "text": [
      "2025-02-15\n",
      "2025-02-14\n",
      "2025-02-16\n"
     ]
    }
   ],
   "source": [
    "from datetime import datetime, timedelta\n",
    "\n",
    "x=datetime.now()\n",
    "a=x-timedelta(days=1)\n",
    "b=x+timedelta(days=1)\n",
    "\n",
    "print(x.strftime(\"%Y-%m-%d\"))\n",
    "print(a.strftime(\"%Y-%m-%d\"))\n",
    "print(b.strftime(\"%Y-%m-%d\"))"
   ]
  },
  {
   "cell_type": "code",
   "execution_count": 11,
   "metadata": {},
   "outputs": [
    {
     "name": "stdout",
     "output_type": "stream",
     "text": [
      "2025-02-15 19:41:39.264278\n",
      "2025-02-15 19:41:39\n"
     ]
    }
   ],
   "source": [
    "from datetime import datetime\n",
    "\n",
    "x=datetime.now()\n",
    "a=x.replace(microsecond=0)\n",
    "\n",
    "print(x)\n",
    "print(a)"
   ]
  },
  {
   "cell_type": "code",
   "execution_count": 1,
   "metadata": {},
   "outputs": [
    {
     "name": "stdout",
     "output_type": "stream",
     "text": [
      "444600.0\n"
     ]
    }
   ],
   "source": [
    "from datetime import datetime\n",
    "\n",
    "x=datetime(2025,2,15,12,0,0)\n",
    "a=datetime(2025,2,10,8,30,0)\n",
    "\n",
    "difference=(x-a).total_seconds()\n",
    "\n",
    "print(difference)"
   ]
  }
 ],
 "metadata": {
  "kernelspec": {
   "display_name": "Python 3",
   "language": "python",
   "name": "python3"
  },
  "language_info": {
   "codemirror_mode": {
    "name": "ipython",
    "version": 3
   },
   "file_extension": ".py",
   "mimetype": "text/x-python",
   "name": "python",
   "nbconvert_exporter": "python",
   "pygments_lexer": "ipython3",
   "version": "3.13.1"
  }
 },
 "nbformat": 4,
 "nbformat_minor": 2
}
