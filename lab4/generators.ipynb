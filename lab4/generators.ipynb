{
 "cells": [
  {
   "cell_type": "code",
   "execution_count": 1,
   "metadata": {},
   "outputs": [
    {
     "name": "stdout",
     "output_type": "stream",
     "text": [
      "1\n",
      "4\n",
      "9\n",
      "16\n",
      "25\n"
     ]
    }
   ],
   "source": [
    "def square (x):\n",
    "    for num in range (1, x+1):\n",
    "        yield num**2\n",
    "\n",
    "x= int(input()) \n",
    "for square in square(x):\n",
    "    print(square)"
   ]
  },
  {
   "cell_type": "code",
   "execution_count": 4,
   "metadata": {},
   "outputs": [
    {
     "name": "stdout",
     "output_type": "stream",
     "text": [
      "0,2,4,6,8,10,12,14,16,18,20,22\n"
     ]
    }
   ],
   "source": [
    "def even(x):\n",
    "    for num in range (0,x+1, 2):\n",
    "        if num%2==0:\n",
    "            yield str(num)\n",
    "\n",
    "x= int(input())\n",
    "\n",
    "print(\",\".join(even(x)))"
   ]
  },
  {
   "cell_type": "code",
   "execution_count": 6,
   "metadata": {},
   "outputs": [
    {
     "name": "stdout",
     "output_type": "stream",
     "text": [
      "0,12,24,36,48\n"
     ]
    }
   ],
   "source": [
    "def num(x):\n",
    "    for num in range (0,x+1):\n",
    "        if num%3==0:\n",
    "            if num%4==0:\n",
    "                yield str(num)\n",
    "\n",
    "x= int(input())\n",
    "\n",
    "print(\",\".join(num(x)))"
   ]
  },
  {
   "cell_type": "code",
   "execution_count": 14,
   "metadata": {},
   "outputs": [
    {
     "name": "stdout",
     "output_type": "stream",
     "text": [
      "4\n",
      "9\n",
      "16\n",
      "25\n",
      "36\n",
      "49\n",
      "64\n",
      "81\n"
     ]
    }
   ],
   "source": [
    "def squares(x,y):\n",
    "    for num in range (x,y+1):\n",
    "        yield num**2\n",
    "\n",
    "x= int(input())\n",
    "y= int(input())\n",
    "\n",
    "for square in squares(x,y):\n",
    "    print(square)\n",
    "\n"
   ]
  },
  {
   "cell_type": "code",
   "execution_count": 15,
   "metadata": {},
   "outputs": [
    {
     "name": "stdout",
     "output_type": "stream",
     "text": [
      "10,9,8,7,6,5,4,3,2,1\n"
     ]
    }
   ],
   "source": [
    "def num(x):\n",
    "    for num in range (x+1,0, -1):\n",
    "        yield str(num)\n",
    "\n",
    "x= int(input())\n",
    "\n",
    "print(\",\".join(num(x)))"
   ]
  }
 ],
 "metadata": {
  "kernelspec": {
   "display_name": "Python 3",
   "language": "python",
   "name": "python3"
  },
  "language_info": {
   "codemirror_mode": {
    "name": "ipython",
    "version": 3
   },
   "file_extension": ".py",
   "mimetype": "text/x-python",
   "name": "python",
   "nbconvert_exporter": "python",
   "pygments_lexer": "ipython3",
   "version": "3.13.1"
  }
 },
 "nbformat": 4,
 "nbformat_minor": 2
}
